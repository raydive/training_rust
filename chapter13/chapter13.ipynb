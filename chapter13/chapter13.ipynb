{
 "cells": [
  {
   "cell_type": "code",
   "execution_count": 2,
   "metadata": {
    "vscode": {
     "languageId": "rust"
    }
   },
   "outputs": [
    {
     "ename": "Error",
     "evalue": "The variable `example_closure` is a closure, which cannot be persisted.\nYou can however persist closures if you box them. e.g.:\nlet f: Box<dyn Fn()> = Box::new(|| {println!(\"foo\")});\nAlternatively, you can prevent evcxr from attempting to persist\nthe variable by wrapping your code in braces.",
     "output_type": "error",
     "traceback": [
      "The variable `example_closure` is a closure, which cannot be persisted.\nYou can however persist closures if you box them. e.g.:\nlet f: Box<dyn Fn()> = Box::new(|| {println!(\"foo\")});\nAlternatively, you can prevent evcxr from attempting to persist\nthe variable by wrapping your code in braces."
     ]
    }
   ],
   "source": [
    "let example_closure = |x| x;\n",
    "\n",
    "let s = example_closure(String::from(\"hello\"));\n",
    "let n = example_closure(5);"
   ]
  },
  {
   "cell_type": "code",
   "execution_count": null,
   "metadata": {
    "vscode": {
     "languageId": "rust"
    }
   },
   "outputs": [],
   "source": []
  }
 ],
 "metadata": {
  "kernelspec": {
   "display_name": "Rust",
   "language": "rust",
   "name": "rust"
  },
  "language_info": {
   "codemirror_mode": "rust",
   "file_extension": ".rs",
   "mimetype": "text/rust",
   "name": "Rust",
   "pygment_lexer": "rust",
   "version": ""
  },
  "orig_nbformat": 4
 },
 "nbformat": 4,
 "nbformat_minor": 2
}
