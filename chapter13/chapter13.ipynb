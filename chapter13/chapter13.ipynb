{
 "cells": [
  {
   "cell_type": "code",
   "execution_count": 4,
   "metadata": {
    "vscode": {
     "languageId": "rust"
    }
   },
   "outputs": [
    {
     "ename": "Error",
     "evalue": "The variable `example_closure` is a closure, which cannot be persisted.\nYou can however persist closures if you box them. e.g.:\nlet f: Box<dyn Fn()> = Box::new(|| {println!(\"foo\")});\nAlternatively, you can prevent evcxr from attempting to persist\nthe variable by wrapping your code in braces.",
     "output_type": "error",
     "traceback": [
      "The variable `example_closure` is a closure, which cannot be persisted.\nYou can however persist closures if you box them. e.g.:\nlet f: Box<dyn Fn()> = Box::new(|| {println!(\"foo\")});\nAlternatively, you can prevent evcxr from attempting to persist\nthe variable by wrapping your code in braces."
     ]
    }
   ],
   "source": [
    "let example_closure = |x| x;\n",
    "\n",
    "let s = example_closure(String::from(\"hello\"));\n",
    "let n = example_closure(5);"
   ]
  },
  {
   "cell_type": "code",
   "execution_count": 6,
   "metadata": {
    "vscode": {
     "languageId": "rust"
    }
   },
   "outputs": [],
   "source": [
    "fn main() {\n",
    "    let x = 4;\n",
    "\n",
    "    let equal_to_x = |z| z == x;\n",
    "\n",
    "    let y = 4;\n",
    "\n",
    "    assert!(equal_to_x(y));\n",
    "}\n"
   ]
  },
  {
   "cell_type": "code",
   "execution_count": 7,
   "metadata": {
    "vscode": {
     "languageId": "rust"
    }
   },
   "outputs": [
    {
     "ename": "Error",
     "evalue": "can't capture dynamic environment in a fn item",
     "output_type": "error",
     "traceback": [
      "\u001b[31m[E0434] Error:\u001b[0m can't capture dynamic environment in a fn item",
      "   \u001b[38;5;246m╭\u001b[0m\u001b[38;5;246m─\u001b[0m\u001b[38;5;246m[\u001b[0mcommand_7:1:1\u001b[38;5;246m]\u001b[0m",
      "   \u001b[38;5;246m│\u001b[0m",
      " \u001b[38;5;246m4 │\u001b[0m \u001b[38;5;249m \u001b[0m\u001b[38;5;249m \u001b[0m\u001b[38;5;249m \u001b[0m\u001b[38;5;249m \u001b[0m\u001b[38;5;249mf\u001b[0m\u001b[38;5;249mn\u001b[0m\u001b[38;5;249m \u001b[0m\u001b[38;5;249me\u001b[0m\u001b[38;5;249mq\u001b[0m\u001b[38;5;249mu\u001b[0m\u001b[38;5;249ma\u001b[0m\u001b[38;5;249ml\u001b[0m\u001b[38;5;249m_\u001b[0m\u001b[38;5;249mt\u001b[0m\u001b[38;5;249mo\u001b[0m\u001b[38;5;249m_\u001b[0m\u001b[38;5;249mx\u001b[0m\u001b[38;5;249m(\u001b[0m\u001b[38;5;249mz\u001b[0m\u001b[38;5;249m:\u001b[0m\u001b[38;5;249m \u001b[0m\u001b[38;5;249mi\u001b[0m\u001b[38;5;249m3\u001b[0m\u001b[38;5;249m2\u001b[0m\u001b[38;5;249m)\u001b[0m\u001b[38;5;249m \u001b[0m\u001b[38;5;249m-\u001b[0m\u001b[38;5;249m>\u001b[0m\u001b[38;5;249m \u001b[0m\u001b[38;5;249mb\u001b[0m\u001b[38;5;249mo\u001b[0m\u001b[38;5;249mo\u001b[0m\u001b[38;5;249ml\u001b[0m\u001b[38;5;249m \u001b[0m\u001b[38;5;249m{\u001b[0m\u001b[38;5;249m \u001b[0m\u001b[38;5;249mz\u001b[0m\u001b[38;5;249m \u001b[0m\u001b[38;5;249m=\u001b[0m\u001b[38;5;249m=\u001b[0m\u001b[38;5;249m \u001b[0m\u001b[38;5;54mx\u001b[0m\u001b[38;5;249m \u001b[0m\u001b[38;5;249m}\u001b[0m",
      " \u001b[38;5;246m  ·\u001b[0m                                          \u001b[38;5;54m┬\u001b[0m  ",
      " \u001b[38;5;246m  ·\u001b[0m                                          \u001b[38;5;54m╰\u001b[0m\u001b[38;5;54m─\u001b[0m\u001b[38;5;54m─\u001b[0m error: can't capture dynamic environment in a fn item",
      "\u001b[38;5;246m───╯\u001b[0m"
     ]
    }
   ],
   "source": [
    "fn main() {\n",
    "    let x = 4;\n",
    "\n",
    "    fn equal_to_x(z: i32) -> bool { z == x }\n",
    "\n",
    "    let y = 4;\n",
    "\n",
    "    assert!(equal_to_x(y));\n",
    "}\n"
   ]
  },
  {
   "attachments": {},
   "cell_type": "markdown",
   "metadata": {},
   "source": [
    "* FnOnceはキャプチャーした変数の所有権を奪う\n",
    "* FnMutはキャプチャーした変数の所有権を奪わない。可変で値を借用する\n",
    "* Fnはキャプチャーした変数を普遍で借用する"
   ]
  },
  {
   "cell_type": "code",
   "execution_count": 8,
   "metadata": {
    "vscode": {
     "languageId": "rust"
    }
   },
   "outputs": [
    {
     "ename": "Error",
     "evalue": "borrow of moved value: `x`",
     "output_type": "error",
     "traceback": [
      "    let equal_to_x = move |z| z == x;",
      "                     ^^^^^^^^ value moved into closure here",
      "    let equal_to_x = move |z| z == x;",
      "                                   ^ variable moved due to use in closure",
      "    println!(\"can't use x here: {:?}\", x);",
      "                                       ^ value borrowed here after move",
      "    let x = vec![1, 2, 3];",
      "        ^ move occurs because `x` has type `Vec<i32>`, which does not implement the `Copy` trait",
      "borrow of moved value: `x`"
     ]
    }
   ],
   "source": [
    "fn main() {\n",
    "    let x = vec![1, 2, 3];\n",
    "\n",
    "    let equal_to_x = move |z| z == x;\n",
    "\n",
    "    // ここでは、xを使用できません: {:?}\n",
    "    println!(\"can't use x here: {:?}\", x);\n",
    "\n",
    "    let y = vec![1, 2, 3];\n",
    "\n",
    "    assert!(equal_to_x(y));\n",
    "}\n"
   ]
  },
  {
   "cell_type": "code",
   "execution_count": 9,
   "metadata": {
    "vscode": {
     "languageId": "rust"
    }
   },
   "outputs": [],
   "source": [
    "\n",
    "#![allow(unused)]\n",
    "fn main() {\n",
    "let v1 = vec![1, 2, 3];\n",
    "\n",
    "let v1_iter = v1.iter();\n",
    "}\n"
   ]
  },
  {
   "attachments": {},
   "cell_type": "markdown",
   "metadata": {},
   "source": [
    "イテレータは呼ばれるまで評価されない。"
   ]
  },
  {
   "cell_type": "code",
   "execution_count": 10,
   "metadata": {
    "vscode": {
     "languageId": "rust"
    }
   },
   "outputs": [],
   "source": [
    "\n",
    "#![allow(unused)]\n",
    "fn main() {\n",
    "let v1 = vec![1, 2, 3];\n",
    "\n",
    "let v1_iter = v1.iter();\n",
    "\n",
    "for val in v1_iter {\n",
    "    // {}でした\n",
    "    println!(\"Got: {}\", val);\n",
    "}\n",
    "}\n"
   ]
  },
  {
   "attachments": {},
   "cell_type": "markdown",
   "metadata": {},
   "source": [
    "Got: 1\n",
    "Got: 2\n",
    "Got: 3\n",
    "が出る。"
   ]
  },
  {
   "cell_type": "code",
   "execution_count": 11,
   "metadata": {
    "vscode": {
     "languageId": "rust"
    }
   },
   "outputs": [],
   "source": [
    "\n",
    "let v1: Vec<i32> = vec![1, 2, 3];\n",
    "\n",
    "v1.iter().map(|x| x + 1);"
   ]
  },
  {
   "cell_type": "code",
   "execution_count": 3,
   "metadata": {
    "vscode": {
     "languageId": "rust"
    }
   },
   "outputs": [
    {
     "name": "stdout",
     "output_type": "stream",
     "text": [
      "Got: 1\n",
      "Got: 2\n",
      "Got: 3\n",
      "Got: 4\n",
      "Got: 5\n",
      "Got: 6\n",
      "Got: 7\n",
      "Got: 8\n",
      "Got: 9\n",
      "Got: 10\n",
      "Got: 11\n",
      "Got: 12\n",
      "Got: 13\n",
      "Got: 14\n",
      "Got: 15\n",
      "Got: 16\n",
      "Got: 17\n",
      "Got: 18\n",
      "Got: 19\n",
      "Got: 20\n"
     ]
    },
    {
     "data": {
      "text/plain": [
       "()"
      ]
     },
     "execution_count": 3,
     "metadata": {},
     "output_type": "execute_result"
    }
   ],
   "source": [
    "let nums: Vec<_> = (1..=20).map(|i| i.to_string()).collect();\n",
    "for val in nums.iter() {\n",
    "    // {}でした\n",
    "    println!(\"Got: {}\", val);\n",
    "}"
   ]
  }
 ],
 "metadata": {
  "kernelspec": {
   "display_name": "Rust",
   "language": "rust",
   "name": "rust"
  },
  "language_info": {
   "codemirror_mode": "rust",
   "file_extension": ".rs",
   "mimetype": "text/rust",
   "name": "Rust",
   "pygment_lexer": "rust",
   "version": ""
  },
  "orig_nbformat": 4
 },
 "nbformat": 4,
 "nbformat_minor": 2
}
