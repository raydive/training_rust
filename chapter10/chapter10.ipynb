{
 "cells": [
  {
   "cell_type": "code",
   "execution_count": 2,
   "metadata": {},
   "outputs": [
    {
     "ename": "Error",
     "evalue": "mismatched types",
     "output_type": "error",
     "traceback": [
      "let p = Point { x: 5, y: 4.0 };",
      "                         ^^^ expected integer, found floating-point number",
      "mismatched types"
     ]
    }
   ],
   "source": [
    "struct Point<T> {\n",
    "    x: T,\n",
    "    y: T,\n",
    "}\n",
    "let p = Point { x: 5, y: 4.0 };"
   ]
  },
  {
   "cell_type": "code",
   "execution_count": 3,
   "metadata": {},
   "outputs": [],
   "source": [
    "struct Point<T> {\n",
    "    x: T,\n",
    "    y: T,\n",
    "}\n",
    "let p = Point { x: 5, y: 4 };"
   ]
  },
  {
   "cell_type": "code",
   "execution_count": 2,
   "metadata": {},
   "outputs": [],
   "source": [
    "struct Point<T> {\n",
    "    x: T,\n",
    "    y: T,\n",
    "}\n",
    "\n",
    "impl<T> Point<T> {\n",
    "    fn x(&self) -> &T {\n",
    "        &self.x\n",
    "    }\n",
    "}"
   ]
  },
  {
   "cell_type": "code",
   "execution_count": 3,
   "metadata": {},
   "outputs": [],
   "source": [
    "struct Point<T> {\n",
    "    x: T,\n",
    "    y: T,\n",
    "}\n",
    "\n",
    "impl<T> Point<T> {\n",
    "    fn x(&self) -> &T {\n",
    "        &self.x\n",
    "    }\n",
    "}\n",
    "\n",
    "impl Point<f32> {\n",
    "    fn distance_from_origin(&self) -> f32 {\n",
    "        (self.x.powi(2) + self.y.powi(2)).sqrt()\n",
    "    }\n",
    "}"
   ]
  },
  {
   "cell_type": "code",
   "execution_count": 13,
   "metadata": {},
   "outputs": [
    {
     "name": "stdout",
     "output_type": "stream",
     "text": [
      "p3.x = 5, p3.y = c\n"
     ]
    },
    {
     "data": {
      "text/plain": [
       "()"
      ]
     },
     "execution_count": 13,
     "metadata": {},
     "output_type": "execute_result"
    }
   ],
   "source": [
    "struct Point<T, U> {\n",
    "    x: T,\n",
    "    y: U,\n",
    "}\n",
    "\n",
    "impl<T, U> Point<T, U> {\n",
    "    fn mixup<V, W>(self, other: Point<V, W>) -> Point<T, W> {\n",
    "        Point {\n",
    "            x: self.x,\n",
    "            y: other.y,\n",
    "        }\n",
    "    }\n",
    "}\n",
    "\n",
    "\n",
    "{\n",
    "    let p1 = Point { x: 5, y: 10.4 };\n",
    "    let p2 = Point { x: \"Hello\", y: 'c'};\n",
    "\n",
    "    let p3 = p1.mixup(p2);\n",
    "\n",
    "    println!(\"p3.x = {}, p3.y = {}\", p3.x, p3.y);\n",
    "}"
   ]
  },
  {
   "cell_type": "code",
   "execution_count": 4,
   "metadata": {},
   "outputs": [
    {
     "ename": "Error",
     "evalue": "`x` does not live long enough",
     "output_type": "error",
     "traceback": [
      "        r = &x;",
      "            ^^ borrowed value does not live long enough",
      "    }",
      "    ^ `x` dropped here while still borrowed",
      "    println!(\"r: {}\", r);",
      "                      ^ borrow later used here",
      "`x` does not live long enough"
     ]
    }
   ],
   "source": [
    "{\n",
    "    let r;\n",
    "\n",
    "    {\n",
    "        let x = 5;\n",
    "        r = &x;\n",
    "    }\n",
    "\n",
    "    println!(\"r: {}\", r);\n",
    "}\n"
   ]
  },
  {
   "cell_type": "code",
   "execution_count": 2,
   "metadata": {},
   "outputs": [
    {
     "name": "stdout",
     "output_type": "stream",
     "text": [
      "r: 5\n"
     ]
    }
   ],
   "source": [
    "{\n",
    "    let x = 5;            // ----------+-- 'b\n",
    "                          //           |\n",
    "    let r = &x;           // --+-- 'a  |\n",
    "                          //   |       |\n",
    "    println!(\"r: {}\", r); //   |       |\n",
    "                          // --+       |\n",
    "}                         // ----------+"
   ]
  },
  {
   "cell_type": "code",
   "execution_count": 3,
   "metadata": {},
   "outputs": [
    {
     "ename": "Error",
     "evalue": "missing lifetime specifier",
     "output_type": "error",
     "traceback": [
      "fn longest(x: &str, y: &str) -> &str {",
      "              ^^^^ ",
      "fn longest(x: &str, y: &str) -> &str {",
      "                       ^^^^ ",
      "fn longest(x: &str, y: &str) -> &str {",
      "                                ^ expected named lifetime parameter",
      "missing lifetime specifier",
      "help: this function's return type contains a borrowed value, but the signature does not say whether it is borrowed from `x` or `y`",
      "help: consider introducing a named lifetime parameter\n\n<'a>"
     ]
    }
   ],
   "source": [
    "fn main() {\n",
    "    let string1 = String::from(\"abcd\");\n",
    "    let string2 = \"xyz\";\n",
    "\n",
    "    let result = longest(string1.as_str(), string2);\n",
    "    println!(\"The longest string is {}\", result);\n",
    "}\n",
    "\n",
    "fn longest(x: &str, y: &str) -> &str {\n",
    "    if x.len() > y.len() {\n",
    "        x\n",
    "    } else {\n",
    "        y\n",
    "    }\n",
    "}\n"
   ]
  },
  {
   "cell_type": "code",
   "execution_count": 5,
   "metadata": {},
   "outputs": [],
   "source": [
    "fn main() {\n",
    "    let string1 = String::from(\"abcd\");\n",
    "    let string2 = \"xyz\";\n",
    "\n",
    "    let result = longest(string1.as_str(), string2);\n",
    "    println!(\"The longest string is {}\", result);\n",
    "}\n",
    "\n",
    "fn longest<'a>(x: &'a str, y: &'a str) -> &'a str {\n",
    "    if x.len() > y.len() {\n",
    "        x\n",
    "    } else {\n",
    "        y\n",
    "    }\n",
    "}"
   ]
  },
  {
   "cell_type": "code",
   "execution_count": 7,
   "metadata": {},
   "outputs": [
    {
     "name": "stdout",
     "output_type": "stream",
     "text": [
      "The longest string is long string is long\n"
     ]
    }
   ],
   "source": [
    "// 長い文字列は長い\n",
    "let string1 = String::from(\"long string is long\");\n",
    "// （訳注：この言葉自体に深い意味はない。下の\"xyz\"より長いということだけが重要）\n",
    "\n",
    "{\n",
    "    let string2 = String::from(\"xyz\");\n",
    "    let result = longest(string1.as_str(), string2.as_str());\n",
    "    // 一番長い文字列は{}\n",
    "    println!(\"The longest string is {}\", result);\n",
    "}\n",
    "\n",
    "fn longest<'a>(x: &'a str, y: &'a str) -> &'a str {\n",
    "    if x.len() > y.len() {\n",
    "        x\n",
    "    } else {\n",
    "        y\n",
    "    }\n",
    "}"
   ]
  },
  {
   "cell_type": "code",
   "execution_count": 8,
   "metadata": {},
   "outputs": [
    {
     "name": "stdout",
     "output_type": "stream",
     "text": [
      "The longest string is xyz\n"
     ]
    }
   ],
   "source": [
    "// 長い文字列は長い\n",
    "let string1 = String::from(\"l\");\n",
    "// （訳注：この言葉自体に深い意味はない。下の\"xyz\"より長いということだけが重要）\n",
    "\n",
    "{\n",
    "    let string2 = String::from(\"xyz\");\n",
    "    let result = longest(string1.as_str(), string2.as_str());\n",
    "    // 一番長い文字列は{}\n",
    "    println!(\"The longest string is {}\", result);\n",
    "}\n",
    "\n",
    "fn longest<'a>(x: &'a str, y: &'a str) -> &'a str {\n",
    "    if x.len() > y.len() {\n",
    "        x\n",
    "    } else {\n",
    "        y\n",
    "    }\n",
    "}"
   ]
  },
  {
   "cell_type": "code",
   "execution_count": 11,
   "metadata": {},
   "outputs": [
    {
     "ename": "Error",
     "evalue": "`string1` does not live long enough",
     "output_type": "error",
     "traceback": [
      "    result = longest(string1.as_str(), string2.as_str());",
      "                     ^^^^^^^^^^^^^^^^ borrowed value does not live long enough",
      "    result = longest(string1.as_str(), string2.as_str());",
      "                     ^^^^^^^^^^^^^^^^ argument requires that `string1` is borrowed for `'static`",
      "`string1` does not live long enough"
     ]
    },
    {
     "ename": "Error",
     "evalue": "`string2` does not live long enough",
     "output_type": "error",
     "traceback": [
      "    result = longest(string1.as_str(), string2.as_str());",
      "                                       ^^^^^^^^^^^^^^^^ borrowed value does not live long enough",
      "}",
      "^ `string2` dropped here while still borrowed",
      "    result = longest(string1.as_str(), string2.as_str());",
      "                                       ^^^^^^^^^^^^^^^^ argument requires that `string2` is borrowed for `'static`",
      "`string2` does not live long enough"
     ]
    }
   ],
   "source": [
    "let string1 = String::from(\"long string is long\");\n",
    "let result;\n",
    "{\n",
    "    let string2 = String::from(\"xyz\");\n",
    "    result = longest(string1.as_str(), string2.as_str());\n",
    "}\n",
    "println!(\"The longest string is {}\", result);\n",
    "\n",
    "fn longest<'a>(x: &'a str, y: &'a str) -> &'a str {\n",
    "    if x.len() > y.len() {\n",
    "        x\n",
    "    } else {\n",
    "        y\n",
    "    }\n",
    "}"
   ]
  },
  {
   "cell_type": "code",
   "execution_count": 13,
   "metadata": {},
   "outputs": [
    {
     "ename": "Error",
     "evalue": "unused variable: `x`",
     "output_type": "error",
     "traceback": [
      "fn longest<'a>(x: &str, y: &str) -> &'a str {",
      "               ^ ",
      "unused variable: `x`",
      "help: if this is intentional, prefix it with an underscore\n\n_x"
     ]
    },
    {
     "ename": "Error",
     "evalue": "unused variable: `y`",
     "output_type": "error",
     "traceback": [
      "fn longest<'a>(x: &str, y: &str) -> &'a str {",
      "                        ^ ",
      "unused variable: `y`",
      "help: if this is intentional, prefix it with an underscore\n\n_y"
     ]
    },
    {
     "ename": "Error",
     "evalue": "cannot return reference to local variable `result`",
     "output_type": "error",
     "traceback": [
      "    result.as_str()",
      "    ^^^^^^^^^^^^^^^ returns a reference to data owned by the current function",
      "cannot return reference to local variable `result`"
     ]
    }
   ],
   "source": [
    "let string1 = String::from(\"abcd\");\n",
    "let string2 = \"xyz\";\n",
    "\n",
    "let result = longest(string1.as_str(), string2);\n",
    "println!(\"The longest string is {}\", result);\n",
    "\n",
    "fn longest<'a>(x: &str, y: &str) -> &'a str {\n",
    "    // 本当に長い文字列\n",
    "    let result = String::from(\"really long string\");\n",
    "    result.as_str()\n",
    "}\n"
   ]
  },
  {
   "cell_type": "markdown",
   "metadata": {},
   "source": [
    "> 関数やメソッドの引数のライフタイムは、入力ライフタイムと呼ばれ、 戻り値のライフタイムは出力ライフタイムと称されます。\n",
    "\n",
    "https://doc.rust-jp.rs/book-ja/ch10-03-lifetime-syntax.html"
   ]
  }
 ],
 "metadata": {
  "interpreter": {
   "hash": "31f2aee4e71d21fbe5cf8b01ff0e069b9275f58929596ceb00d14d90e3e16cd6"
  },
  "kernelspec": {
   "display_name": "Rust",
   "language": "rust",
   "name": "rust"
  },
  "language_info": {
   "codemirror_mode": "rust",
   "file_extension": ".rs",
   "mimetype": "text/rust",
   "name": "rust",
   "pygment_lexer": "rust",
   "version": ""
  },
  "orig_nbformat": 4
 },
 "nbformat": 4,
 "nbformat_minor": 2
}
