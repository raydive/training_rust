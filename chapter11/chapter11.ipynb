{
 "cells": [
  {
   "cell_type": "code",
   "execution_count": 2,
   "metadata": {
    "vscode": {
     "languageId": "rust"
    }
   },
   "outputs": [
    {
     "data": {
      "text/plain": [
       "2"
      ]
     },
     "execution_count": 2,
     "metadata": {},
     "output_type": "execute_result"
    }
   ],
   "source": [
    "1 + 1"
   ]
  },
  {
   "cell_type": "markdown",
   "metadata": {},
   "source": [
    "```\n",
    "$ cargo test                                                                                                                                                             [git][main] -? \n",
    "   Compiling adder v0.1.0 (/Users/arata_n/dev/training_rust/chapter11/adder)\n",
    "    Finished test [unoptimized + debuginfo] target(s) in 0.59s\n",
    "     Running unittests src/lib.rs (target/debug/deps/adder-d053b13dba04ef5b)\n",
    "\n",
    "running 1 test\n",
    "test tests::it_works ... ok\n",
    "\n",
    "test result: ok. 1 passed; 0 failed; 0 ignored; 0 measured; 0 filtered out; finished in 0.00s\n",
    "\n",
    "   Doc-tests adder\n",
    "\n",
    "running 0 tests\n",
    "\n",
    "test result: ok. 0 passed; 0 failed; 0 ignored; 0 measured; 0 filtered out; finished in 0.00s\n",
    "\n",
    "```\n"
   ]
  },
  {
   "cell_type": "markdown",
   "metadata": {},
   "source": [
    "```\n",
    "$ cargo test                                                                                                                                                             [git][main] -? \n",
    "   Compiling adder v0.1.0 (/Users/arata_n/dev/training_rust/chapter11/adder)\n",
    "    Finished test [unoptimized + debuginfo] target(s) in 0.15s\n",
    "     Running unittests src/lib.rs (target/debug/deps/adder-d053b13dba04ef5b)\n",
    "\n",
    "running 1 test\n",
    "test tests::exploration ... ok\n",
    "\n",
    "test result: ok. 1 passed; 0 failed; 0 ignored; 0 measured; 0 filtered out; finished in 0.00s\n",
    "\n",
    "   Doc-tests adder\n",
    "\n",
    "running 0 tests\n",
    "\n",
    "test result: ok. 0 passed; 0 failed; 0 ignored; 0 measured; 0 filtered out; finished in 0.00s\n",
    "```"
   ]
  },
  {
   "cell_type": "markdown",
   "metadata": {},
   "source": [
    "```\n",
    "$ cargo test                                                                                                                                                             [git][main] -? \n",
    "   Compiling adder v0.1.0 (/Users/arata_n/dev/training_rust/chapter11/adder)\n",
    "    Finished test [unoptimized + debuginfo] target(s) in 0.15s\n",
    "     Running unittests src/lib.rs (target/debug/deps/adder-d053b13dba04ef5b)\n",
    "\n",
    "running 2 tests\n",
    "test tests::exploration ... ok\n",
    "test tests::another ... FAILED\n",
    "\n",
    "failures:\n",
    "\n",
    "---- tests::another stdout ----\n",
    "thread 'tests::another' panicked at 'Make this test fail', src/lib.rs:11:9\n",
    "note: run with `RUST_BACKTRACE=1` environment variable to display a backtrace\n",
    "\n",
    "\n",
    "failures:\n",
    "    tests::another\n",
    "\n",
    "test result: FAILED. 1 passed; 1 failed; 0 ignored; 0 measured; 0 filtered out; finished in 0.00s\n",
    "\n",
    "error: test failed, to rerun pass '--lib'\n",
    "``` "
   ]
  },
  {
   "cell_type": "code",
   "execution_count": 2,
   "metadata": {
    "vscode": {
     "languageId": "rust"
    }
   },
   "outputs": [
    {
     "data": {
      "text/plain": [
       "2"
      ]
     },
     "execution_count": 2,
     "metadata": {},
     "output_type": "execute_result"
    }
   ],
   "source": [
    "1 + 1"
   ]
  }
 ],
 "metadata": {
  "kernelspec": {
   "display_name": "Rust",
   "language": "rust",
   "name": "rust"
  },
  "language_info": {
   "codemirror_mode": "rust",
   "file_extension": ".rs",
   "mimetype": "text/rust",
   "name": "Rust",
   "pygment_lexer": "rust",
   "version": ""
  },
  "orig_nbformat": 4
 },
 "nbformat": 4,
 "nbformat_minor": 2
}
