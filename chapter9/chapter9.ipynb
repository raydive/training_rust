{
 "cells": [
  {
   "cell_type": "code",
   "execution_count": 2,
   "metadata": {
    "vscode": {
     "languageId": "rust"
    }
   },
   "outputs": [
    {
     "name": "stderr",
     "output_type": "stream",
     "text": [
      "thread '<unnamed>' panicked at 'crash and burn', src/lib.rs:5:1\n",
      "stack backtrace:\n",
      "   0: std::panicking::begin_panic\n",
      "   1: _run_user_code_1\n",
      "   2: evcxr::runtime::Runtime::run_loop\n",
      "   3: evcxr::runtime::runtime_hook\n",
      "   4: evcxr_jupyter::main\n",
      "note: Some details are omitted, run with `RUST_BACKTRACE=full` for a verbose backtrace.\n",
      "Segmentation fault.\n",
      "   0: backtrace::backtrace::trace\n",
      "   1: backtrace::capture::Backtrace::new\n",
      "   2: evcxr::runtime::Runtime::install_crash_handlers::segfault_handler\n",
      "   3: __sigtramp\n",
      "   4: core::ptr::drop_in_place<alloc::boxed::Box<dyn core::any::Any+core::marker::Send>>\n",
      "             at /rustc/7737e0b5c4103216d6fd8cf941b7ab9bdbaace7c/library/core/src/ptr/mod.rs:188:1\n",
      "      core::ptr::drop_in_place<core::result::Result<i32,alloc::boxed::Box<dyn core::any::Any+core::marker::Send>>>\n",
      "             at /rustc/7737e0b5c4103216d6fd8cf941b7ab9bdbaace7c/library/core/src/ptr/mod.rs:188:1\n",
      "      core::result::Result<T,E>::unwrap_or\n",
      "             at /rustc/7737e0b5c4103216d6fd8cf941b7ab9bdbaace7c/library/core/src/result.rs:1408:5\n",
      "      std::rt::lang_start_internal::{{closure}}\n",
      "             at /rustc/7737e0b5c4103216d6fd8cf941b7ab9bdbaace7c/library/std/src/rt.rs:128:48\n",
      "      std::panicking::try::do_call\n",
      "             at /rustc/7737e0b5c4103216d6fd8cf941b7ab9bdbaace7c/library/std/src/panicking.rs:492:40\n",
      "      std::panicking::try\n",
      "             at /rustc/7737e0b5c4103216d6fd8cf941b7ab9bdbaace7c/library/std/src/panicking.rs:456:19\n",
      "      std::panic::catch_unwind\n",
      "             at /rustc/7737e0b5c4103216d6fd8cf941b7ab9bdbaace7c/library/std/src/panic.rs:137:14\n",
      "      std::rt::lang_start_internal\n",
      "             at /rustc/7737e0b5c4103216d6fd8cf941b7ab9bdbaace7c/library/std/src/rt.rs:128:20\n",
      "   5: _main\n",
      "\n"
     ]
    },
    {
     "ename": "Error",
     "evalue": "Child process terminated with status: signal: 6",
     "output_type": "error",
     "traceback": [
      "Child process terminated with status: signal: 6"
     ]
    }
   ],
   "source": [
    "panic!(\"crash and burn\");  //クラッシュして炎上"
   ]
  },
  {
   "cell_type": "code",
   "execution_count": 3,
   "metadata": {
    "vscode": {
     "languageId": "rust"
    }
   },
   "outputs": [
    {
     "name": "stderr",
     "output_type": "stream",
     "text": [
      "thread '<unnamed>' panicked at 'index out of bounds: the len is 3 but the index is 99', src/lib.rs:107:1\n",
      "stack backtrace:\n",
      "   0: _rust_begin_unwind\n",
      "   1: core::panicking::panic_fmt\n",
      "   2: core::panicking::panic_bounds_check\n",
      "   3: _run_user_code_1\n",
      "   4: evcxr::runtime::Runtime::run_loop\n",
      "   5: evcxr::runtime::runtime_hook\n",
      "   6: evcxr_jupyter::main\n",
      "note: Some details are omitted, run with `RUST_BACKTRACE=full` for a verbose backtrace.\n"
     ]
    },
    {
     "ename": "Error",
     "evalue": "Child process terminated with status: exit status: 101",
     "output_type": "error",
     "traceback": [
      "Child process terminated with status: exit status: 101"
     ]
    }
   ],
   "source": [
    "let v = vec![1, 2, 3];\n",
    "\n",
    "v[99];"
   ]
  },
  {
   "cell_type": "code",
   "execution_count": 5,
   "metadata": {
    "vscode": {
     "languageId": "rust"
    }
   },
   "outputs": [
    {
     "ename": "Error",
     "evalue": "mismatched types",
     "output_type": "error",
     "traceback": [
      "let f: u32 = File::open(\"hello.txt\");",
      "             ^^^^^^^^^^^^^^^^^^^^^^^ expected `u32`, found enum `Result`",
      "let f: u32 = File::open(\"hello.txt\");",
      "       ^^^ expected due to this",
      "mismatched types"
     ]
    }
   ],
   "source": [
    "use std::fs::File;\n",
    "let f: u32 = File::open(\"hello.txt\");"
   ]
  },
  {
   "cell_type": "code",
   "execution_count": 6,
   "metadata": {
    "vscode": {
     "languageId": "rust"
    }
   },
   "outputs": [
    {
     "name": "stderr",
     "output_type": "stream",
     "text": [
      "thread '<unnamed>' panicked at 'called `Result::unwrap()` on an `Err` value: Os { code: 2, kind: NotFound, message: \"No such file or directory\" }', src/lib.rs:106:33\n",
      "stack backtrace:\n",
      "   0: _rust_begin_unwind\n",
      "   1: core::panicking::panic_fmt\n",
      "   2: core::result::unwrap_failed\n",
      "   3: _run_user_code_1\n",
      "   4: evcxr::runtime::Runtime::run_loop\n",
      "   5: evcxr::runtime::runtime_hook\n",
      "   6: evcxr_jupyter::main\n",
      "note: Some details are omitted, run with `RUST_BACKTRACE=full` for a verbose backtrace.\n"
     ]
    },
    {
     "ename": "Error",
     "evalue": "Child process terminated with status: exit status: 101",
     "output_type": "error",
     "traceback": [
      "Child process terminated with status: exit status: 101"
     ]
    }
   ],
   "source": [
    "use std::fs::File;\n",
    "let f = File::open(\"hello.txt\").unwrap();"
   ]
  },
  {
   "cell_type": "code",
   "execution_count": 7,
   "metadata": {
    "vscode": {
     "languageId": "rust"
    }
   },
   "outputs": [
    {
     "name": "stderr",
     "output_type": "stream",
     "text": [
      "thread '<unnamed>' panicked at 'Failed to open hello.txt: Os { code: 2, kind: NotFound, message: \"No such file or directory\" }', src/lib.rs:106:33\n",
      "stack backtrace:\n",
      "   0: _rust_begin_unwind\n",
      "   1: core::panicking::panic_fmt\n",
      "   2: core::result::unwrap_failed\n",
      "   3: _run_user_code_1\n",
      "   4: evcxr::runtime::Runtime::run_loop\n",
      "   5: evcxr::runtime::runtime_hook\n",
      "   6: evcxr_jupyter::main\n",
      "note: Some details are omitted, run with `RUST_BACKTRACE=full` for a verbose backtrace.\n"
     ]
    },
    {
     "ename": "Error",
     "evalue": "Child process terminated with status: exit status: 101",
     "output_type": "error",
     "traceback": [
      "Child process terminated with status: exit status: 101"
     ]
    }
   ],
   "source": [
    "use std::fs::File;\n",
    "let f = File::open(\"hello.txt\").expect(\"Failed to open hello.txt\");"
   ]
  }
 ],
 "metadata": {
  "interpreter": {
   "hash": "31f2aee4e71d21fbe5cf8b01ff0e069b9275f58929596ceb00d14d90e3e16cd6"
  },
  "kernelspec": {
   "display_name": "Rust",
   "language": "rust",
   "name": "rust"
  },
  "language_info": {
   "codemirror_mode": "rust",
   "file_extension": ".rs",
   "mimetype": "text/rust",
   "name": "Rust",
   "pygment_lexer": "rust",
   "version": ""
  },
  "orig_nbformat": 4
 },
 "nbformat": 4,
 "nbformat_minor": 2
}
