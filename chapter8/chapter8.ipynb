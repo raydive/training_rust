{
 "cells": [
  {
   "cell_type": "code",
   "execution_count": 4,
   "id": "4642ea40",
   "metadata": {
    "vscode": {
     "languageId": "rust"
    }
   },
   "outputs": [
    {
     "name": "stdout",
     "output_type": "stream",
     "text": [
      "1\n"
     ]
    }
   ],
   "source": [
    "let v = vec![1, 2, 3];\n",
    "println!(\"{}\", v[0]);"
   ]
  },
  {
   "cell_type": "code",
   "execution_count": 8,
   "id": "148b1d36",
   "metadata": {
    "vscode": {
     "languageId": "rust"
    }
   },
   "outputs": [
    {
     "name": "stdout",
     "output_type": "stream",
     "text": [
      "1\n"
     ]
    }
   ],
   "source": [
    "let v = vec![1, 2, 3];\n",
    "    println!(\"{}\", v[0]);"
   ]
  },
  {
   "cell_type": "code",
   "execution_count": 7,
   "id": "1b37b4e6",
   "metadata": {
    "vscode": {
     "languageId": "rust"
    }
   },
   "outputs": [
    {
     "name": "stdout",
     "output_type": "stream",
     "text": [
      "5\n"
     ]
    }
   ],
   "source": [
    "    let mut v = Vec::new();\n",
    "\n",
    "    v.push(5);\n",
    "    v.push(6);\n",
    "    v.push(7);\n",
    "    v.push(8);\n",
    "println!(\"{}\", v[0]);"
   ]
  },
  {
   "cell_type": "code",
   "execution_count": 3,
   "id": "32f9d0e4",
   "metadata": {
    "vscode": {
     "languageId": "rust"
    }
   },
   "outputs": [
    {
     "name": "stdout",
     "output_type": "stream",
     "text": [
      "The third element is 3\n"
     ]
    },
    {
     "data": {
      "text/plain": [
       "()"
      ]
     },
     "execution_count": 3,
     "metadata": {},
     "output_type": "execute_result"
    }
   ],
   "source": [
    "    let v = vec![1, 2, 3, 4, 5];\n",
    "\n",
    "    match v.get(2) {\n",
    "        //                      \"3つ目の要素は{}です\"\n",
    "        Some(third) => println!(\"The third element is {}\", third),\n",
    "        //               \"3つ目の要素はありません。\"\n",
    "        None => println!(\"There is no third element.\"),\n",
    "    }"
   ]
  },
  {
   "cell_type": "code",
   "execution_count": 5,
   "id": "86782d09",
   "metadata": {
    "vscode": {
     "languageId": "rust"
    }
   },
   "outputs": [
    {
     "name": "stdout",
     "output_type": "stream",
     "text": [
      "The third element is 3\n"
     ]
    },
    {
     "data": {
      "text/plain": [
       "()"
      ]
     },
     "execution_count": 5,
     "metadata": {},
     "output_type": "execute_result"
    }
   ],
   "source": [
    "{\n",
    "    let v = vec![1, 2, 3, 4, 5];\n",
    "\n",
    "    let third: &i32 = &v[2];\n",
    "    println!(\"The third element is {}\", third);\n",
    "}"
   ]
  },
  {
   "cell_type": "code",
   "execution_count": 6,
   "id": "039336bd",
   "metadata": {
    "vscode": {
     "languageId": "rust"
    }
   },
   "outputs": [
    {
     "ename": "Error",
     "evalue": "The variable `third` contains a reference with a non-static lifetime so can't be persisted",
     "output_type": "error",
     "traceback": [
      "let third: &i32 = &v[2];",
      "let third: &i32 = &v[2];",
      "    ^^^^^ ",
      "The variable `third` contains a reference with a non-static lifetime so can't be persisted"
     ]
    }
   ],
   "source": [
    "let v = vec![1, 2, 3, 4, 5];\n",
    "\n",
    "let third: &i32 = &v[2];\n",
    "println!(\"The third element is {}\", third);"
   ]
  },
  {
   "cell_type": "markdown",
   "id": "8cd11b9c",
   "metadata": {},
   "source": [
    "{}で囲わないと、Jupyter上でこける"
   ]
  },
  {
   "cell_type": "code",
   "execution_count": 7,
   "id": "52128cf9",
   "metadata": {
    "vscode": {
     "languageId": "rust"
    }
   },
   "outputs": [
    {
     "ename": "Error",
     "evalue": "unused variable: `does_not_exist`",
     "output_type": "error",
     "traceback": [
      "let does_not_exist = &v[100];",
      "    ^^^^^^^^^^^^^^ ",
      "unused variable: `does_not_exist`",
      "help: if this is intentional, prefix it with an underscore\n\n_does_not_exist"
     ]
    },
    {
     "ename": "Error",
     "evalue": "`v` does not live long enough",
     "output_type": "error",
     "traceback": [
      "let does_not_exist = v.get(100);",
      "                     ^^^^^^^^^^ borrowed value does not live long enough",
      "let does_not_exist = v.get(100);",
      "                     ^^^^^^^^^^ argument requires that `v` is borrowed for `'static`",
      "`v` does not live long enough"
     ]
    }
   ],
   "source": [
    "let v = vec![1, 2, 3, 4, 5];\n",
    "\n",
    "let does_not_exist = &v[100];\n",
    "let does_not_exist = v.get(100);"
   ]
  },
  {
   "cell_type": "code",
   "execution_count": 8,
   "id": "2130c64f",
   "metadata": {
    "vscode": {
     "languageId": "rust"
    }
   },
   "outputs": [
    {
     "ename": "Error",
     "evalue": "The variable `first` contains a reference with a non-static lifetime so can't be persisted",
     "output_type": "error",
     "traceback": [
      "let first = &v[0];",
      "",
      "let first = &v[0];",
      "    ^^^^^ ",
      "The variable `first` contains a reference with a non-static lifetime so can't be persisted"
     ]
    },
    {
     "ename": "Error",
     "evalue": "cannot borrow `v` as mutable because it is also borrowed as immutable",
     "output_type": "error",
     "traceback": [
      "v.push(6);",
      "^^^^^^^^^ mutable borrow occurs here",
      "let first = &v[0];",
      "             ^ immutable borrow occurs here",
      "cannot borrow `v` as mutable because it is also borrowed as immutable"
     ]
    }
   ],
   "source": [
    "let mut v = vec![1, 2, 3, 4, 5];\n",
    "\n",
    "let first = &v[0];\n",
    "\n",
    "v.push(6);\n",
    "\n",
    "println!(\"The first element is: {}\", first);"
   ]
  },
  {
   "cell_type": "code",
   "execution_count": 9,
   "id": "3d02310b",
   "metadata": {
    "vscode": {
     "languageId": "rust"
    }
   },
   "outputs": [
    {
     "name": "stdout",
     "output_type": "stream",
     "text": [
      "100\n",
      "32\n",
      "57\n"
     ]
    },
    {
     "data": {
      "text/plain": [
       "()"
      ]
     },
     "execution_count": 9,
     "metadata": {},
     "output_type": "execute_result"
    }
   ],
   "source": [
    "let v = vec![100, 32, 57];\n",
    "for i in &v {\n",
    "    println!(\"{}\", i);\n",
    "}"
   ]
  },
  {
   "cell_type": "code",
   "execution_count": 11,
   "id": "880e2c45",
   "metadata": {
    "vscode": {
     "languageId": "rust"
    }
   },
   "outputs": [
    {
     "name": "stdout",
     "output_type": "stream",
     "text": [
      "150\n",
      "82\n",
      "107\n"
     ]
    },
    {
     "data": {
      "text/plain": [
       "()"
      ]
     },
     "execution_count": 11,
     "metadata": {},
     "output_type": "execute_result"
    }
   ],
   "source": [
    "let mut v = vec![100, 32, 57];\n",
    "for i in &mut v {\n",
    "    *i += 50;\n",
    "}\n",
    "for i in &v {\n",
    "    println!(\"{}\", i);\n",
    "}"
   ]
  },
  {
   "cell_type": "code",
   "execution_count": 12,
   "id": "c6ef9337",
   "metadata": {
    "vscode": {
     "languageId": "rust"
    }
   },
   "outputs": [],
   "source": [
    "enum SpreadsheetCell {\n",
    "    Int(i32),\n",
    "    Float(f64),\n",
    "    Text(String),\n",
    "}\n",
    "\n",
    "let row = vec![\n",
    "    SpreadsheetCell::Int(3),\n",
    "    SpreadsheetCell::Text(String::from(\"blue\")),\n",
    "    SpreadsheetCell::Float(10.12),\n",
    "];"
   ]
  },
  {
   "cell_type": "markdown",
   "id": "f3dceabe",
   "metadata": {},
   "source": [
    "enumで同じ型だからコンパイル通る\n"
   ]
  },
  {
   "cell_type": "code",
   "execution_count": 13,
   "id": "ba8ae51c",
   "metadata": {
    "vscode": {
     "languageId": "rust"
    }
   },
   "outputs": [
    {
     "name": "stdout",
     "output_type": "stream",
     "text": [
      "foobar\n"
     ]
    }
   ],
   "source": [
    "let mut s = String::from(\"foo\");\n",
    "s.push_str(\"bar\");\n",
    "println!(\"{}\", s);"
   ]
  },
  {
   "cell_type": "code",
   "execution_count": 14,
   "id": "81654c3d",
   "metadata": {
    "vscode": {
     "languageId": "rust"
    }
   },
   "outputs": [
    {
     "name": "stdout",
     "output_type": "stream",
     "text": [
      "s2 is bar\n"
     ]
    }
   ],
   "source": [
    "let mut s1 = String::from(\"foo\");\n",
    "let s2 = \"bar\";\n",
    "s1.push_str(s2);\n",
    "println!(\"s2 is {}\", s2);"
   ]
  },
  {
   "cell_type": "markdown",
   "id": "6418b99f",
   "metadata": {},
   "source": [
    "s2は文字列スライスだから使える"
   ]
  },
  {
   "cell_type": "code",
   "execution_count": 17,
   "id": "b4ffdf21",
   "metadata": {
    "vscode": {
     "languageId": "rust"
    }
   },
   "outputs": [
    {
     "name": "stdout",
     "output_type": "stream",
     "text": [
      "lol\n",
      "l\n"
     ]
    }
   ],
   "source": [
    "let mut s = String::from(\"lo\");\n",
    "let c = 'l';\n",
    "s.push(c);\n",
    "println!(\"{}\", s);\n",
    "println!(\"{}\", c);\n"
   ]
  },
  {
   "cell_type": "code",
   "execution_count": 18,
   "id": "65afd8a8",
   "metadata": {
    "vscode": {
     "languageId": "rust"
    }
   },
   "outputs": [
    {
     "ename": "Error",
     "evalue": "borrow of moved value: `s1`",
     "output_type": "error",
     "traceback": [
      "let s3 = s1 + &s2; // s1はムーブされ、もう使用できないことに注意",
      "         ^^ value moved here",
      "println!{\"{}\", s1};",
      "               ^^ value borrowed here after move",
      "let s1 = String::from(\"Hello, \");",
      "    ^^ move occurs because `s1` has type `String`, which does not implement the `Copy` trait",
      "borrow of moved value: `s1`"
     ]
    }
   ],
   "source": [
    "let s1 = String::from(\"Hello, \");\n",
    "let s2 = String::from(\"world!\");\n",
    "let s3 = s1 + &s2; // s1はムーブされ、もう使用できないことに注意\n",
    "println!{\"{}\", s1};"
   ]
  },
  {
   "cell_type": "code",
   "execution_count": 19,
   "id": "81a5e214",
   "metadata": {
    "vscode": {
     "languageId": "rust"
    }
   },
   "outputs": [
    {
     "name": "stdout",
     "output_type": "stream",
     "text": [
      "tic-tac-toe\n",
      "tic\n"
     ]
    }
   ],
   "source": [
    "let s1 = String::from(\"tic\");\n",
    "let s2 = String::from(\"tac\");\n",
    "let s3 = String::from(\"toe\");\n",
    "\n",
    "let s = format!(\"{}-{}-{}\", s1, s2, s3);\n",
    "println!(\"{}\", s);\n",
    "println!(\"{}\", s1);"
   ]
  },
  {
   "cell_type": "markdown",
   "id": "3e75cd7e",
   "metadata": {},
   "source": [
    "format!は＋演算子と異なり所有権を奪わない"
   ]
  },
  {
   "cell_type": "code",
   "execution_count": 20,
   "id": "f57dd85d",
   "metadata": {
    "vscode": {
     "languageId": "rust"
    }
   },
   "outputs": [
    {
     "name": "stdout",
     "output_type": "stream",
     "text": [
      "न\n",
      "म\n",
      "स\n",
      "्\n",
      "त\n",
      "े\n"
     ]
    },
    {
     "data": {
      "text/plain": [
       "()"
      ]
     },
     "execution_count": 20,
     "metadata": {},
     "output_type": "execute_result"
    }
   ],
   "source": [
    "for c in \"नमस्ते\".chars() {\n",
    "    println!(\"{}\", c);\n",
    "}"
   ]
  },
  {
   "cell_type": "code",
   "execution_count": 22,
   "id": "b3f90e95",
   "metadata": {
    "vscode": {
     "languageId": "rust"
    }
   },
   "outputs": [
    {
     "data": {
      "text/plain": [
       "()"
      ]
     },
     "execution_count": 22,
     "metadata": {},
     "output_type": "execute_result"
    }
   ],
   "source": [
    "{\n",
    "    use std::collections::HashMap;\n",
    "\n",
    "    let teams  = vec![String::from(\"Blue\"), String::from(\"Yellow\")];\n",
    "    let initial_scores = vec![10, 50];\n",
    "    \n",
    "    let scores: HashMap<_, _> = teams.iter().zip(initial_scores.iter()).collect();\n",
    "}"
   ]
  },
  {
   "cell_type": "code",
   "execution_count": 26,
   "id": "16997c0b",
   "metadata": {
    "vscode": {
     "languageId": "rust"
    }
   },
   "outputs": [
    {
     "ename": "Error",
     "evalue": "borrow of moved value: `field_name`",
     "output_type": "error",
     "traceback": [
      "map.insert(field_name, field_value);",
      "           ^^^^^^^^^^ value moved here",
      "println!(\"{}\", field_name);",
      "               ^^^^^^^^^^ value borrowed here after move",
      "let field_name = String::from(\"Favorite color\");",
      "    ^^^^^^^^^^ move occurs because `field_name` has type `String`, which does not implement the `Copy` trait",
      "borrow of moved value: `field_name`"
     ]
    },
    {
     "ename": "Error",
     "evalue": "borrow of moved value: `field_value`",
     "output_type": "error",
     "traceback": [
      "map.insert(field_name, field_value);",
      "                       ^^^^^^^^^^^ value moved here",
      "println!(\"{}\", field_value);",
      "               ^^^^^^^^^^^ value borrowed here after move",
      "let field_value = String::from(\"Blue\");",
      "    ^^^^^^^^^^^ move occurs because `field_value` has type `String`, which does not implement the `Copy` trait",
      "borrow of moved value: `field_value`"
     ]
    }
   ],
   "source": [
    "{\n",
    "    use std::collections::HashMap;\n",
    "\n",
    "let field_name = String::from(\"Favorite color\");\n",
    "let field_value = String::from(\"Blue\");\n",
    "\n",
    "let mut map = HashMap::new();\n",
    "map.insert(field_name, field_value);\n",
    "// field_name and field_value are invalid at this point, try using them and\n",
    "// see what compiler error you get!\n",
    "// field_nameとfield_valueはこの時点で無効になる。試しに使ってみて\n",
    "// どんなコンパイルエラーが出るか確認してみて！\n",
    "println!(\"{}\", field_name);\n",
    "println!(\"{}\", field_value);\n",
    "}"
   ]
  },
  {
   "cell_type": "markdown",
   "id": "9e005e8b",
   "metadata": {},
   "source": [
    "map.insert(field_name, field_value);\n",
    "           ^^^^^^^^^^ value moved here\n",
    "println!(\"{}\", field_name);\n",
    "               ^^^^^^^^^^ value borrowed here after move\n",
    "let field_name = String::from(\"Favorite color\");\n",
    "    ^^^^^^^^^^ move occurs because `field_name` has type `String`, which does not implement the `Copy` trait\n",
    "borrow of moved value: `field_name`\n",
    "map.insert(field_name, field_value);\n",
    "                       ^^^^^^^^^^^ value moved here\n",
    "println!(\"{}\", field_value);\n",
    "               ^^^^^^^^^^^ value borrowed here after move\n",
    "let field_value = String::from(\"Blue\");\n",
    "    ^^^^^^^^^^^ move occurs because `field_value` has type `String`, which does not implement the `Copy` trait\n",
    "borrow of moved value: `field_value`"
   ]
  },
  {
   "cell_type": "code",
   "execution_count": 27,
   "id": "8fc468b3",
   "metadata": {
    "vscode": {
     "languageId": "rust"
    }
   },
   "outputs": [
    {
     "name": "stdout",
     "output_type": "stream",
     "text": [
      "Yellow: 50\n",
      "Blue: 10\n"
     ]
    },
    {
     "data": {
      "text/plain": [
       "()"
      ]
     },
     "execution_count": 27,
     "metadata": {},
     "output_type": "execute_result"
    }
   ],
   "source": [
    "use std::collections::HashMap;\n",
    "\n",
    "let mut scores = HashMap::new();\n",
    "\n",
    "scores.insert(String::from(\"Blue\"), 10);\n",
    "scores.insert(String::from(\"Yellow\"), 50);\n",
    "\n",
    "for (key, value) in &scores {\n",
    "    println!(\"{}: {}\", key, value);\n",
    "}"
   ]
  },
  {
   "cell_type": "code",
   "execution_count": 28,
   "id": "f309ad06",
   "metadata": {
    "vscode": {
     "languageId": "rust"
    }
   },
   "outputs": [
    {
     "name": "stdout",
     "output_type": "stream",
     "text": [
      "{\"Blue\": 25}\n"
     ]
    }
   ],
   "source": [
    "use std::collections::HashMap;\n",
    "\n",
    "let mut scores = HashMap::new();\n",
    "\n",
    "scores.insert(String::from(\"Blue\"), 10);\n",
    "scores.insert(String::from(\"Blue\"), 25);\n",
    "\n",
    "println!(\"{:?}\", scores);"
   ]
  },
  {
   "cell_type": "code",
   "execution_count": 29,
   "id": "4cf1649c",
   "metadata": {
    "vscode": {
     "languageId": "rust"
    }
   },
   "outputs": [
    {
     "name": "stdout",
     "output_type": "stream",
     "text": [
      "{\"Blue\": 10, \"Yellow\": 50}\n"
     ]
    }
   ],
   "source": [
    "\n",
    "use std::collections::HashMap;\n",
    "\n",
    "let mut scores = HashMap::new();\n",
    "scores.insert(String::from(\"Blue\"), 10);\n",
    "\n",
    "scores.entry(String::from(\"Yellow\")).or_insert(50);\n",
    "scores.entry(String::from(\"Blue\")).or_insert(50);\n",
    "\n",
    "println!(\"{:?}\", scores);"
   ]
  },
  {
   "cell_type": "code",
   "execution_count": null,
   "id": "a0279b23",
   "metadata": {
    "vscode": {
     "languageId": "rust"
    }
   },
   "outputs": [],
   "source": []
  }
 ],
 "metadata": {
  "kernelspec": {
   "display_name": "Rust",
   "language": "rust",
   "name": "rust"
  },
  "language_info": {
   "codemirror_mode": "rust",
   "file_extension": ".rs",
   "mimetype": "text/rust",
   "name": "Rust",
   "pygment_lexer": "rust",
   "version": ""
  }
 },
 "nbformat": 4,
 "nbformat_minor": 5
}
